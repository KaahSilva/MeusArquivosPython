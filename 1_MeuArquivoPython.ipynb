{
  "nbformat": 4,
  "nbformat_minor": 0,
  "metadata": {
    "colab": {
      "provenance": [],
      "authorship_tag": "ABX9TyM0wBkhQ4FKvd+SG5y7v1dg",
      "include_colab_link": true
    },
    "kernelspec": {
      "name": "python3",
      "display_name": "Python 3"
    },
    "language_info": {
      "name": "python"
    }
  },
  "cells": [
    {
      "cell_type": "markdown",
      "metadata": {
        "id": "view-in-github",
        "colab_type": "text"
      },
      "source": [
        "<a href=\"https://colab.research.google.com/github/KaahSilva/MeusArquivosPython/blob/main/1_MeuArquivoPython.ipynb\" target=\"_parent\"><img src=\"https://colab.research.google.com/assets/colab-badge.svg\" alt=\"Open In Colab\"/></a>"
      ]
    },
    {
      "cell_type": "markdown",
      "source": [
        "# 1-INTRODUÇÃO AO PYTHON"
      ],
      "metadata": {
        "id": "XplqVREAkk-0"
      }
    },
    {
      "cell_type": "markdown",
      "source": [],
      "metadata": {
        "id": "3S0mIP5vhBcj"
      }
    },
    {
      "cell_type": "code",
      "source": [
        "print(\"OLÁ MUNDO!!\")\n",
        "nome = \"Kalline\"\n",
        "sobrenome=\"Ferreira\""
      ],
      "metadata": {
        "id": "4iQQ-seqlLFM"
      },
      "execution_count": null,
      "outputs": []
    },
    {
      "cell_type": "markdown",
      "source": [],
      "metadata": {
        "id": "jUN-0GMxkj7d"
      }
    },
    {
      "cell_type": "markdown",
      "source": [
        "# 1.1COMENTÁRIOS EM PYTHON"
      ],
      "metadata": {
        "id": "Sm2Syh5onLQI"
      }
    },
    {
      "cell_type": "code",
      "source": [
        "print(\"olá mundo02\")\n",
        "\n",
        "#print(\"KAHHHH\")\n",
        "\n",
        "'''\n",
        "  Aqui tem um comentário\n",
        "'''"
      ],
      "metadata": {
        "id": "UiBY_r8nnTgQ"
      },
      "execution_count": null,
      "outputs": []
    },
    {
      "cell_type": "markdown",
      "source": [
        "# 1.2VARIÁVEIS"
      ],
      "metadata": {
        "id": "3N_-dElppwrK"
      }
    },
    {
      "cell_type": "markdown",
      "source": [
        "As variáveis podem ser do tipo\n",
        "\n",
        "\n",
        "\n",
        "*   string - para letras\n",
        "*   int - para inteiros\n",
        "\n",
        "\n",
        "*   float - numeros flutuantes(reais)\n",
        "*   double- números reais flutuantes em dobro\n",
        "\n",
        "\n",
        "*   byte- tamanho de um byte\n",
        "*   booleana- valores Verdadeiros e Falsos\n",
        "\n",
        "\n",
        "\n",
        "\n",
        "\n",
        "\n",
        "\n"
      ],
      "metadata": {
        "id": "fnqJLF2UwXRo"
      }
    },
    {
      "cell_type": "code",
      "source": [
        "# VARIAVEIS TIPO STRING\n",
        "# PYTHON NÃO FAZ DISTINÇÃO DE ASPAS SIMPLES E DUPLA\n",
        "\n",
        "a= 'kalline'\n",
        "b= \" ferreira\"\n",
        "c= ''' silva'''\n",
        "\n",
        "print(a+b+c)\n",
        "print(a,b,c) #ELE ACEITA VIRGULAS PARA SEPARAR\n",
        "print(a,b,c,sep = ' - ' ) #sep é um separador \n",
        "print(a,b,c,sep = ' - ' , end ='***fim***') #end ele so acrescenta apenas no final\n",
        "print(a,b,c,sep = '\\n') # ele quebra linha \n",
        "print('esse texto quebra uma linha \\n aeee') # ele aceita \\n como quebra linha \n",
        "\n",
        "\n"
      ],
      "metadata": {
        "id": "YaZ5DhVApzha"
      },
      "execution_count": null,
      "outputs": []
    },
    {
      "cell_type": "code",
      "source": [
        "#Outras formataçõe de string\n",
        "\n",
        "print('Tenho um gatinho chamado %s, ele tem %s ano ' %(\"pipoca\",\"1\")) # %s ele é referente a string , que pode substituir no local onde foi inserido \n",
        "\n",
        "print('Estamos no ano de %d  e vou fazer %d anos ' %(2023,20) ) # %s ele é referente a string , que pode substituir no local onde foi inserido \n",
        "\n",
        "print(\"A pontuação do {} foi de {} pontos\" .format(\"pedro\" , \"10\")) # ele utiliza {} ele substitui o local onde foi inserido\n",
        "\n",
        "#### Formatação:\n",
        "  # %s texto\n",
        "  # %d inteiro\n",
        "  # %f real\n"
      ],
      "metadata": {
        "id": "_eTdELtF_NnI",
        "colab": {
          "base_uri": "https://localhost:8080/"
        },
        "outputId": "ae7f6721-4452-48bf-9304-ab0bb5617966"
      },
      "execution_count": null,
      "outputs": [
        {
          "output_type": "stream",
          "name": "stdout",
          "text": [
            "Tenho um gatinho chamado pipoca, ele tem 1 ano \n",
            "Estamos no ano de 2023  e vou fazer 20 anos \n",
            "A pontuação do pedro foi de 10 pontos\n"
          ]
        }
      ]
    },
    {
      "cell_type": "code",
      "source": [
        "#Separação de termos de string \n",
        "\n",
        "nome= \"Kalline\"\n",
        "print(nome)\n",
        "print(len(nome))# o leng se refere ao lenght (tamanho) que oferece o tamanho da variavel(quantidade de letras)\n",
        "print([0])\n"
      ],
      "metadata": {
        "id": "C379X0wuz81f"
      },
      "execution_count": null,
      "outputs": []
    },
    {
      "cell_type": "code",
      "source": [
        "#Pedaços do nome de uma string Slicing\n",
        "\n",
        "nome =\"sorvete\"\n",
        "print(nome[3:])# valores ao lado esquerdo dos dois pontos são executados . A direita não\n",
        "print(nome[:3])# valores ao lado direito dos dois pontos são executados . A esquerda não\n",
        "print(nome[:-3])#coloca os três primeiros valores \n",
        "print(nome[-3:]) #coloca os três últimos valores da string\n",
        "print(nome[:3] + nome[3:] )\n",
        "\n",
        "\n"
      ],
      "metadata": {
        "id": "aTxdiU0C1TZN"
      },
      "execution_count": null,
      "outputs": []
    },
    {
      "cell_type": "markdown",
      "source": [
        "#NUMEROS "
      ],
      "metadata": {
        "id": "pKXJBhx0BB4O"
      }
    },
    {
      "cell_type": "code",
      "source": [
        "'''\n",
        "    Operadores Aritmeticos \n",
        "\n",
        "    - (subtração)\n",
        "    + ( adição ou concateenação)\n",
        "    * (mutiplicação)\n",
        "    / (divisão)\n",
        "    // (divisão inteiro)\n",
        "    % (resto da divisão)\n",
        "    ** (potenciação)\n",
        "    dica para calcular a raiz de um numero EX: 4 ** (1/2)\n",
        "'''"
      ],
      "metadata": {
        "id": "3IEMrbbGDDF5"
      },
      "execution_count": null,
      "outputs": []
    },
    {
      "cell_type": "code",
      "source": [
        "#VARIÁVEIS NUMÉRICAS\n",
        "# OS TIPOS DE VARIAVEIS SÃO: INT , DOUBLE , FLOAT\n",
        "# não utiliza aspas\n",
        "\n",
        "numero1= 1\n",
        "numero2= 23\n",
        "\n",
        "print(numero1 , numero2 , sep='-')\n"
      ],
      "metadata": {
        "id": "fvoG2mhEr_FT"
      },
      "execution_count": null,
      "outputs": []
    },
    {
      "cell_type": "markdown",
      "source": [
        "# IDENTAÇÃO"
      ],
      "metadata": {
        "id": "hWmG7OXbGb0A"
      }
    },
    {
      "cell_type": "code",
      "source": [
        "## calculos de nomes\n",
        "\n",
        "nome=\"kalline\"\n",
        "valor=2\n",
        "resultado = (valor)**(len(nome))\n",
        "print(resultado)\n"
      ],
      "metadata": {
        "id": "jJRdOg_e4YSJ"
      },
      "execution_count": null,
      "outputs": []
    },
    {
      "cell_type": "code",
      "source": [
        "## Variáveis Booleanas (False ou True)\n",
        "\n",
        "a=3\n",
        "b=4\n",
        "b=7\n",
        "print(a==b)\n",
        "\n"
      ],
      "metadata": {
        "id": "riCuCjsJAxL_"
      },
      "execution_count": null,
      "outputs": []
    },
    {
      "cell_type": "code",
      "source": [
        "## input = leia\n",
        "## print = escreva\n",
        "#Exercicio\n",
        "senha = \"ifma\"\n",
        "confere = input (\"digite sua senha :\")\n",
        "if senha == confere:\n",
        "    print(\"Senha correta!|Logado no sistema\")\n",
        "elif confere == \"225\":\n",
        "    print (\"senha de Administrador . gora voce é root\")\n",
        "else:\n",
        "    print(\"senha incorreta!\")\n",
        "\n",
        "\n",
        "\n",
        "\n",
        "\n"
      ],
      "metadata": {
        "id": "wxxt6yagHRZy"
      },
      "execution_count": null,
      "outputs": []
    },
    {
      "cell_type": "code",
      "source": [
        "# exemplo de IF com True\n",
        "\n",
        "if (True):\n",
        "  print(\"kalline\")\n",
        "  \n"
      ],
      "metadata": {
        "id": "m8VV5Igam0_F"
      },
      "execution_count": null,
      "outputs": []
    },
    {
      "cell_type": "code",
      "source": [
        "# exemplos de cadastro:\n",
        "\n",
        "nome = input(\"Digite seu nome :\")\n",
        "endereco = input(\"Digite seu endereço:\")\n",
        "sexo= input(\"Sexo M/F:\")\n",
        "\n",
        "print(f\"nome: {nome} \\n Endereço: {endereco} \\n sexo{sexo}\")## ele tem esse f"
      ],
      "metadata": {
        "id": "WeAuhDH9pKdL"
      },
      "execution_count": null,
      "outputs": []
    },
    {
      "cell_type": "code",
      "source": [
        "## For\n",
        "## primeiro coloca o seu contador , no caso desse exemplo é i \n",
        "## utiliza o range() para determinar ate onde voce quer que o seu pare funcione\n",
        "\n",
        "#### Faça os exercicios em Python abaixo ####\n",
        "#1) imprima os numeros de 1 a 10\n",
        "for i in range(10):\n",
        "  print(i+1)"
      ],
      "metadata": {
        "id": "lhZv0d5xqhTx"
      },
      "execution_count": null,
      "outputs": []
    },
    {
      "cell_type": "code",
      "source": [
        "#2) Imprima os números pares impares menores que 100.\n",
        "\n",
        "for i in range(50):\n",
        "   print(i*2+1)\n",
        "\n",
        "\n"
      ],
      "metadata": {
        "id": "4cp-gjJMsGxI"
      },
      "execution_count": null,
      "outputs": []
    },
    {
      "cell_type": "code",
      "source": [
        "#4) Imprima todas as tabuadas de 1 a 10\n",
        "\n",
        "for i in range(11):\n",
        "  print(\"\\n Tabuada de  \", i )\n",
        "  for j in range(11):\n",
        "    print(\"\\t\",i , \"x\" , \"=\", i*j) ## \\t ele da um tab , tambem existe o \\c"
      ],
      "metadata": {
        "id": "uRz9CroItOrJ"
      },
      "execution_count": null,
      "outputs": []
    },
    {
      "cell_type": "code",
      "source": [
        "#5 Some os números de 1 a 10\n",
        "\n",
        "soma=0\n",
        "\n",
        "for i in range(11):\n",
        "  soma+=i\n",
        "print(\"A soma é : \", soma)\n",
        " \n"
      ],
      "metadata": {
        "id": "KQxJmI6hvQWs"
      },
      "execution_count": null,
      "outputs": []
    },
    {
      "cell_type": "code",
      "source": [
        "##6) Uma função que calcule a porcetagem de um número\n",
        "\n",
        "numero = float(input(\"Digite um numero: \"))\n",
        "porcento = float(input(\"Digite a porcentagem :\"))\n",
        "resultado = numero*(porcento/100)\n",
        "\n"
      ],
      "metadata": {
        "id": "SA7e0fj8wq7T"
      },
      "execution_count": null,
      "outputs": []
    },
    {
      "cell_type": "markdown",
      "source": [
        "# Catring(Mudanças de tipo de variáveis)"
      ],
      "metadata": {
        "id": "DRwE8rS2yKK5"
      }
    },
    {
      "cell_type": "code",
      "source": [
        "texto1 =\"1.0\"\n",
        "texto2 = '3'\n",
        "numero1 = float(texto1)\n",
        "numero2 = int(texto2)\n",
        "\n",
        "textotovoltar = str(numero1)\n",
        "\n",
        "print(type(texto1))\n",
        "print(type(texto2))\n",
        "print(type(numero1))\n",
        "print(type(numero2))\n",
        "\n",
        "print(type(textotovoltar))"
      ],
      "metadata": {
        "id": "3RfQMRks0Eg4"
      },
      "execution_count": null,
      "outputs": []
    },
    {
      "cell_type": "markdown",
      "source": [
        "# Invertendo string"
      ],
      "metadata": {
        "id": "AAqf4qPg2Y4_"
      }
    },
    {
      "cell_type": "code",
      "source": [
        "texto = \"ROMA\"\n",
        "print(texto [::-1]) # :inicar ,  :intervalo , ordem:  \n",
        "                    # é onde começa | intervalo de quantos em quantos vai pular | ordem crescente ou decrescente \n",
        "\n",
        "\n",
        "# existe o metodo inverse"
      ],
      "metadata": {
        "colab": {
          "base_uri": "https://localhost:8080/"
        },
        "id": "7-0ygOI02k_Z",
        "outputId": "0d41ba42-287c-4cee-d288-55f88242ed1f"
      },
      "execution_count": null,
      "outputs": [
        {
          "output_type": "stream",
          "name": "stdout",
          "text": [
            "AMOR\n"
          ]
        }
      ]
    },
    {
      "cell_type": "markdown",
      "source": [
        "# Testando a existencia de caracter no texto"
      ],
      "metadata": {
        "id": "NwpjemLZ7cOs"
      }
    },
    {
      "cell_type": "code",
      "source": [
        "texto1 = \"Casa\"\n",
        "print (\"a\" in texto1)   ## in significa inserido \n",
        "print (\"i\" in texto1)\n",
        "print (\"ASA\" in texto1)\n",
        "print (\"asa\" in texto1)\n",
        "print (\"ASA\" not in texto1)\n"
      ],
      "metadata": {
        "id": "RG8-wT117peG",
        "colab": {
          "base_uri": "https://localhost:8080/"
        },
        "outputId": "cb17243a-900d-459e-e8cc-19ce471d9f6d"
      },
      "execution_count": null,
      "outputs": [
        {
          "output_type": "stream",
          "name": "stdout",
          "text": [
            "True\n",
            "False\n",
            "False\n",
            "True\n",
            "True\n"
          ]
        }
      ]
    },
    {
      "cell_type": "markdown",
      "source": [
        "##Formatando String"
      ],
      "metadata": {
        "id": "1dK71fSAtI7e"
      }
    },
    {
      "cell_type": "code",
      "source": [
        "#teste de confirmação de email\n",
        "\n",
        "email = input(\"Digite seu email:\")\n",
        "if \"@\" in email:\n",
        "  print(\"email correto!\")\n",
        "else:\n",
        "  print(\"Por favor acrescente o email correto\")"
      ],
      "metadata": {
        "id": "3SkbasRLtQ21"
      },
      "execution_count": null,
      "outputs": []
    },
    {
      "cell_type": "markdown",
      "source": [
        "#  IMUTABILIDADE DE STRING"
      ],
      "metadata": {
        "id": "W4RWLHTRhFmz"
      }
    },
    {
      "cell_type": "code",
      "source": [
        "## Alterar valores de **string** no python não é permitido para isso utilizar o replace\n",
        "\n",
        "##essa é a maneira ideal\n",
        "texto = \"estudo python 3\"\n",
        "\n",
        "print(texto.replace (\"3\", \"2\"))"
      ],
      "metadata": {
        "id": "ttFa-cf3hZ4a",
        "colab": {
          "base_uri": "https://localhost:8080/"
        },
        "outputId": "5fafbd3c-34d4-40a4-e12c-e97914707084"
      },
      "execution_count": null,
      "outputs": [
        {
          "output_type": "stream",
          "name": "stdout",
          "text": [
            "estudo python 2\n"
          ]
        }
      ]
    },
    {
      "cell_type": "markdown",
      "source": [
        "# separando string"
      ],
      "metadata": {
        "id": "wg59ndm-x7Qq"
      }
    },
    {
      "cell_type": "code",
      "source": [
        "nomeCompleto = input(\"Digite seu nome: \")\n",
        "nome = nomeCompleto[:8]\n",
        "sobrenome = nomeCompleto[-9:]\n",
        "print(\"Nome: \" + nome)\n",
        "print(\"Sobrenome: \" + sobrenome)\n"
      ],
      "metadata": {
        "colab": {
          "base_uri": "https://localhost:8080/"
        },
        "id": "Crr69-qax_5R",
        "outputId": "bb4fc01f-3297-4bc1-f26a-64a37a821934"
      },
      "execution_count": null,
      "outputs": [
        {
          "output_type": "stream",
          "name": "stdout",
          "text": [
            "Digite seu nome: kalline ferreira\n",
            "Nome: kalline \n",
            "Sobrenome:  ferreira\n"
          ]
        }
      ]
    },
    {
      "cell_type": "markdown",
      "source": [
        "# Length"
      ],
      "metadata": {
        "id": "MDRnJ4Nqjfk-"
      }
    },
    {
      "cell_type": "code",
      "source": [
        "## serve para ver o tamanho da variável\n",
        "texto = \"estudo python 3\"\n",
        "\n",
        "print(len(texto))"
      ],
      "metadata": {
        "colab": {
          "base_uri": "https://localhost:8080/"
        },
        "id": "6uMPlMjmjq2l",
        "outputId": "d0bdc65f-5a52-47e2-8268-abdf1689f76b"
      },
      "execution_count": null,
      "outputs": [
        {
          "output_type": "stream",
          "name": "stdout",
          "text": [
            "15\n"
          ]
        }
      ]
    },
    {
      "cell_type": "markdown",
      "source": [
        "# Método **Capitalize**"
      ],
      "metadata": {
        "id": "kMFiyn11k8_T"
      }
    },
    {
      "cell_type": "code",
      "source": [
        "## ele faz a letra inicial ficar maiuscula\n",
        "\n",
        "texto = \"estudo de python 3\"\n",
        "teste = texto.capitalize()\n",
        "print(teste)"
      ],
      "metadata": {
        "colab": {
          "base_uri": "https://localhost:8080/"
        },
        "id": "x4L3lsWYlIjF",
        "outputId": "978a8997-c6bc-4c11-c948-a705c31f6202"
      },
      "execution_count": null,
      "outputs": [
        {
          "output_type": "stream",
          "name": "stdout",
          "text": [
            "Estudo de python 3\n"
          ]
        }
      ]
    },
    {
      "cell_type": "markdown",
      "source": [
        "# start swith"
      ],
      "metadata": {
        "id": "lZiTrsDPmvwT"
      }
    },
    {
      "cell_type": "code",
      "source": [
        "## ele verifica a letra inicial\n",
        "\n",
        "\n",
        "texto = \"estudo de python 3\"\n",
        "teste = texto.startswith(\"e\")\n",
        "print(teste)"
      ],
      "metadata": {
        "id": "Xm1aE55qm4J6",
        "colab": {
          "base_uri": "https://localhost:8080/"
        },
        "outputId": "69d54350-dc7b-46bc-f9fb-fbc1c9fa3d0c"
      },
      "execution_count": null,
      "outputs": [
        {
          "output_type": "stream",
          "name": "stdout",
          "text": [
            "True\n"
          ]
        }
      ]
    },
    {
      "cell_type": "markdown",
      "source": [
        "# end swith"
      ],
      "metadata": {
        "id": "JJDHeEmnnPJV"
      }
    },
    {
      "cell_type": "code",
      "source": [
        "## ele verifica a ultima letra\n",
        "\n",
        "texto = \"estudo de python 3\"\n",
        "teste = texto.endswith(\"3\")\n",
        "print(teste)"
      ],
      "metadata": {
        "colab": {
          "base_uri": "https://localhost:8080/"
        },
        "id": "IlX-hHsqnVRm",
        "outputId": "30e5f462-66c5-4107-8339-3fd0caf9547c"
      },
      "execution_count": null,
      "outputs": [
        {
          "output_type": "stream",
          "name": "stdout",
          "text": [
            "True\n"
          ]
        }
      ]
    },
    {
      "cell_type": "markdown",
      "source": [
        "# Split"
      ],
      "metadata": {
        "id": "iNkHrm0CnjJ9"
      }
    },
    {
      "cell_type": "code",
      "source": [
        "## ele  separa por virgula a varivel  , ele faz isso dentro de um array do tipo lista\n",
        "\n",
        "texto = \"estudo de python 3\"\n",
        "print(type (texto))\n",
        "\n",
        "teste = texto.split()\n",
        "\n",
        "print(teste)\n",
        "print(type (teste))"
      ],
      "metadata": {
        "id": "KVq1ba-Bnpv-",
        "colab": {
          "base_uri": "https://localhost:8080/"
        },
        "outputId": "ac7d107e-db10-43f3-a135-f8a04e0c3b9d"
      },
      "execution_count": null,
      "outputs": [
        {
          "output_type": "stream",
          "name": "stdout",
          "text": [
            "<class 'str'>\n",
            "['estudo', 'de', 'python', '3']\n",
            "<class 'list'>\n"
          ]
        }
      ]
    },
    {
      "cell_type": "markdown",
      "source": [
        "# Comando de Desisão IF ELSE e Elif\n"
      ],
      "metadata": {
        "id": "9QNi8wvL60me"
      }
    },
    {
      "cell_type": "code",
      "source": [
        "numero = 11\n",
        "if numero >= 11:\n",
        "  print(\"Maior ou igual a 11\")\n",
        "print(\"Fora do IF\")\n",
        "\n"
      ],
      "metadata": {
        "colab": {
          "base_uri": "https://localhost:8080/"
        },
        "id": "nnRt-rh97N9i",
        "outputId": "135a76b5-a3d2-44cf-b7c6-83c65e815e9e"
      },
      "execution_count": null,
      "outputs": [
        {
          "output_type": "stream",
          "name": "stdout",
          "text": [
            "Maior ou igual a 11\n",
            "Fora do IF\n"
          ]
        }
      ]
    },
    {
      "cell_type": "code",
      "source": [
        "numero = int(input(\"Digite um numero :\"))\n",
        "if numero >= 11:\n",
        "  print(\"Maior ou igual a 11\")\n"
      ],
      "metadata": {
        "id": "7vmtYBKm8E9X"
      },
      "execution_count": null,
      "outputs": []
    },
    {
      "cell_type": "code",
      "source": [
        "a=3\n",
        "\n",
        "b= int(input(\"Digite um numero: \"))\n"
      ],
      "metadata": {
        "id": "_xAhhJ7z8vZe"
      },
      "execution_count": null,
      "outputs": []
    },
    {
      "cell_type": "code",
      "source": [
        "## lower coloca as letras em minusculo\n",
        "## pode usar if sem o else \n",
        "## elif pode ser utilizado\n",
        "\n",
        "nome = input(\"Digite seu nome: \")\n",
        "nome= nome.lower()\n",
        "\n",
        "for i in range(len(nome)):\n",
        "  if nome[i] in \"a\":\n",
        "    print(\"O nome \" , nome , \"tem a vogal\" , nome[i])\n",
        "  if nome[i] in \"e\":\n",
        "    print(\"O nome \" , nome , \"tem a vogal\", nome[i])\n",
        "  if nome[i] in \"i\":\n",
        "    print(\"O nome \" , nome , \"tem a vogal\", nome[i])\n",
        "  if nome[i] in \"o\":\n",
        "    print(\"O nome \" , nome , \"tem a vogal\", nome[i])\n",
        "  if nome[i] in \"u\":\n",
        "     print(\"O nome \" , nome , \"tem a vogal\", nome[i])\n",
        "  else:\n",
        "    print(\"O nome \" , nome , \"não tem a vogal\")\n",
        "  \n"
      ],
      "metadata": {
        "id": "hdvMsGoa9PdL",
        "colab": {
          "base_uri": "https://localhost:8080/"
        },
        "outputId": "7b8c45af-b009-487d-c440-865af078fa77"
      },
      "execution_count": null,
      "outputs": [
        {
          "output_type": "stream",
          "name": "stdout",
          "text": [
            "Digite seu nome: kalline\n",
            "O nome  kalline não tem a vogal\n",
            "O nome  kalline tem a vogal a\n",
            "O nome  kalline não tem a vogal\n",
            "O nome  kalline não tem a vogal\n",
            "O nome  kalline não tem a vogal\n",
            "O nome  kalline tem a vogal i\n",
            "O nome  kalline não tem a vogal\n",
            "O nome  kalline não tem a vogal\n",
            "O nome  kalline tem a vogal e\n",
            "O nome  kalline não tem a vogal\n"
          ]
        }
      ]
    },
    {
      "cell_type": "code",
      "source": [
        "num = int(input(\"Digite um numero:\"))\n",
        "if num < 10:\n",
        "  print(\"Menor que 10\")\n",
        "elif num< 100:\n",
        "  print(\"Menor que 100\")\n",
        "elif num< 1000:\n",
        "  print(\"Menor que 1000\")\n",
        "else:\n",
        "  print(\"Não estão dentro dos valores\")\n",
        "\n",
        "\n"
      ],
      "metadata": {
        "id": "fd3yJJpRAttQ"
      },
      "execution_count": null,
      "outputs": []
    },
    {
      "cell_type": "markdown",
      "source": [
        "# LAÇOS"
      ],
      "metadata": {
        "id": "R0YP0TzACrmQ"
      }
    },
    {
      "cell_type": "markdown",
      "source": [
        "## while - enquanto"
      ],
      "metadata": {
        "id": "_-wm_FaaGslM"
      }
    },
    {
      "cell_type": "code",
      "source": [
        "num = 0\n",
        "while True:\n",
        "  if num == 5:\n",
        "    break    ## ele para o codigo quando o indice for igual a 5\n",
        "  print(num)\n",
        "  num+=1\n",
        "print(\"encerrou\")"
      ],
      "metadata": {
        "id": "QXFXWIm5Cviy"
      },
      "execution_count": null,
      "outputs": []
    },
    {
      "cell_type": "code",
      "source": [
        "## Comando continua pulando o valor\n",
        "## o comando continue ele pula o numero \n",
        "\n",
        "num=0\n",
        "while num < 10:\n",
        "   num +=1\n",
        "   if num == 4:\n",
        "     continue\n",
        "   print(num)\n",
        "print(\"Terminou\")\n",
        "\n"
      ],
      "metadata": {
        "id": "fIv-xrzYEdIH"
      },
      "execution_count": null,
      "outputs": []
    },
    {
      "cell_type": "markdown",
      "source": [
        "## for"
      ],
      "metadata": {
        "id": "8hbn3XPwGxuS"
      }
    },
    {
      "cell_type": "code",
      "source": [
        "for i in range(10):\n",
        "  print(i)"
      ],
      "metadata": {
        "id": "YAJ9bd1bHCsC"
      },
      "execution_count": null,
      "outputs": []
    },
    {
      "cell_type": "code",
      "source": [
        "#Start para range  ---> Coloca o numero para \n",
        "\n",
        "for i in range(1 , 11):\n",
        "  print(i)"
      ],
      "metadata": {
        "id": "KnTSOYtzHNWL"
      },
      "execution_count": null,
      "outputs": []
    },
    {
      "cell_type": "code",
      "source": [
        "#Usando o terceiro valor dentro do range\n",
        "\n",
        "for i in range(0, 12, 2): ## primeiro valor : é o valor inicial do i , segundo valor: ate onde ele vai contar , terceiro valor: intervalo (onde ele pula)\n",
        "  print(i)"
      ],
      "metadata": {
        "id": "Qs_kNDz4HiMF"
      },
      "execution_count": null,
      "outputs": []
    },
    {
      "cell_type": "code",
      "source": [
        "#Contagem regressiva\n",
        "\n",
        "#for i in range(100 , -2, -2):\n",
        "  #print(i)\n",
        "\n",
        "for i in range(10 , -1, -1):\n",
        "  print(i)"
      ],
      "metadata": {
        "id": "TjTik50xJYwU"
      },
      "execution_count": null,
      "outputs": []
    },
    {
      "cell_type": "code",
      "source": [
        "#Range com string\n",
        "\n",
        "texto = \"Kalline\"\n",
        "for i in range(0 , len(texto)):\n",
        "  print(texto[i])"
      ],
      "metadata": {
        "id": "XQ4jSgdCKOOo"
      },
      "execution_count": null,
      "outputs": []
    },
    {
      "cell_type": "code",
      "source": [
        "#Encontrando uma letras e a posição\n",
        "nome =  input(\"Digite um nome:\")\n",
        "letra = input(\"Digite uma letra:\")\n",
        "for i in range (0, len(nome)):\n",
        "  if letra == nome[i]:\n",
        "    print(\"Encontrei a letra %s na posição %i \" %(letra, i)) ## o %(letra, i) é as variaveis , elas devem está na ordem\n",
        "    print(\"Encontrei a letra {} na posição {} \" .format(letra, i))\n",
        "    print(f\"Encontrei a letra {letra} na posição {i} \")"
      ],
      "metadata": {
        "id": "alHOlN3RLK3u",
        "outputId": "29d99d49-65d2-4abc-a1ee-0a6b5aa3f254",
        "colab": {
          "base_uri": "https://localhost:8080/"
        }
      },
      "execution_count": null,
      "outputs": [
        {
          "output_type": "stream",
          "name": "stdout",
          "text": [
            "Digite um nome:kah\n",
            "Digite uma letra:a\n",
            "Encontrei a letra a na posição 1 \n",
            "Encontrei a letra a na posição 1 \n",
            "Encontrei a letra a na posição 1 \n"
          ]
        }
      ]
    },
    {
      "cell_type": "code",
      "source": [
        "## Condicinando com digito de uma letra apenas\n",
        "\n",
        "nome = input(\"Digite um nome:\")\n",
        "letra= input(\"Digite uma letra:\")\n",
        "if len(letra) !=1:\n",
        "  print(\"Digite apenas uma letra :\")\n",
        "else:\n",
        "  for i in range(0, len(nome)):\n",
        "    if letra == nome[i]:\n",
        "      print(\"Encontrei a letra %s na posição %i\") %(letra , i)\n",
        "    break\n"
      ],
      "metadata": {
        "id": "XWUo8sETOMjQ"
      },
      "execution_count": null,
      "outputs": []
    },
    {
      "cell_type": "code",
      "source": [
        "#for com texto \n",
        "\n",
        "texto = \"kalline\"\n",
        "for x in texto:\n",
        "  print(x)\n"
      ],
      "metadata": {
        "id": "-Oyyvk1aPjZA",
        "colab": {
          "base_uri": "https://localhost:8080/"
        },
        "outputId": "b72b3bbe-e8e2-4b93-eeb9-20f3150ffe88"
      },
      "execution_count": null,
      "outputs": [
        {
          "output_type": "stream",
          "name": "stdout",
          "text": [
            "k\n",
            "a\n",
            "l\n",
            "l\n",
            "i\n",
            "n\n",
            "e\n"
          ]
        }
      ]
    },
    {
      "cell_type": "code",
      "source": [
        "#for aninhado tabuada de 1 e 2 ou mais\n",
        "\n",
        "for x in range(1, 11):\n",
        "  print(\"=======================\")\n",
        "  for j in range(1,11):\n",
        "    print (x,\"x\", j, \"=\", x*j)\n"
      ],
      "metadata": {
        "id": "7mo1d-xlq_QJ"
      },
      "execution_count": null,
      "outputs": []
    },
    {
      "cell_type": "markdown",
      "source": [
        "# **ARRAY TIPO LISTA EM PYTHON - mutavel**"
      ],
      "metadata": {
        "id": "zmuR_UN9smmQ"
      }
    },
    {
      "cell_type": "code",
      "source": [
        "'''\n",
        "  \n",
        "'''"
      ],
      "metadata": {
        "id": "AePvnKipszpr"
      },
      "execution_count": null,
      "outputs": []
    },
    {
      "cell_type": "code",
      "source": [
        "\n",
        "array=[] #lista vazia \n",
        "\n",
        "arry = list([1,2,3])#lista é um método do python\n",
        "print(array)\n",
        "print(arry)"
      ],
      "metadata": {
        "id": "VOTaYZLVs-8V",
        "outputId": "a3484ea4-a11c-41e4-9e35-0f19affe52ed",
        "colab": {
          "base_uri": "https://localhost:8080/"
        }
      },
      "execution_count": null,
      "outputs": [
        {
          "output_type": "stream",
          "name": "stdout",
          "text": [
            "[]\n",
            "[1, 2, 3]\n"
          ]
        }
      ]
    },
    {
      "cell_type": "code",
      "source": [
        "array = [2, \"nome\", 5 , 7 , \"Kalline\", 20]\n",
        "print(array[0:5]) #imprimido  vetores com mais de  uma posição\n",
        "print(array [-1]) #imprimi o ultimo elemento do vetor\n",
        "print(array[0]) #imprime o primeiro elemento da lista\n",
        "print(array) #impriem toda a lista"
      ],
      "metadata": {
        "id": "rjcIwy_Ktl8I"
      },
      "execution_count": null,
      "outputs": []
    },
    {
      "cell_type": "code",
      "source": [
        "vetor = [10,2,3 , \"abobora\"]\n",
        "#metodo append() insere um elemento no final da lista\n",
        "vetor[1]=10     #substitui valor ele apaga e substitui\n",
        "vetor.append(5) #adiciona no final\n",
        "print(vetor)\n",
        "\n",
        "#metodo que insere um elemento no vetor em qualquer posição do vetor (2,6)\n",
        "vetor.insert(3,100)   #ele adiciona sem eliminar o valor\n",
        "print(vetor)\n",
        "\n",
        "\n",
        "     ### REMOVER VALORES  ###\n",
        "vetor.remove('abobora') #remove um elemento pelo valor do elemento\n",
        "\n",
        "vetor.pop(0) #remove pelo indice\n",
        "\n",
        "vetor.clear() #limpa todos os elementos do vetor\n",
        "   \n"
      ],
      "metadata": {
        "id": "U3ylZjy6wB3s",
        "colab": {
          "base_uri": "https://localhost:8080/"
        },
        "outputId": "fc6b9861-a9fd-4ae2-b388-e27335d6b2f0"
      },
      "execution_count": null,
      "outputs": [
        {
          "output_type": "stream",
          "name": "stdout",
          "text": [
            "[10, 10, 3, 'abobora', 5]\n",
            "[10, 10, 3, 100, 'abobora', 5]\n"
          ]
        }
      ]
    },
    {
      "cell_type": "code",
      "source": [
        "## CONCATENAR ARRAYS\n",
        "vetor1= [10,100, 110]\n",
        "vetor2 =[20,200,220]\n",
        "vetor3=(vetor1+vetor2)\n",
        "print(vetor3)\n"
      ],
      "metadata": {
        "colab": {
          "base_uri": "https://localhost:8080/"
        },
        "id": "_2SUpXRu3LV_",
        "outputId": "d10704c5-817d-404d-9843-a944c03a62a4"
      },
      "execution_count": null,
      "outputs": [
        {
          "output_type": "stream",
          "name": "stdout",
          "text": [
            "[10, 100, 110, 20, 200, 220]\n"
          ]
        }
      ]
    },
    {
      "cell_type": "code",
      "source": [
        "##MUTIPLICA OS ARRAY (duplica ....)\n",
        "\n",
        "vetor4= [1,2,3,4]\n",
        "produto=((vetor4)*2)\n",
        "print(produto)"
      ],
      "metadata": {
        "id": "-xwm8zrN6KcG"
      },
      "execution_count": null,
      "outputs": []
    },
    {
      "cell_type": "code",
      "source": [
        "##Separando elementos de vetor em varios indepedentes\n",
        "\n",
        "vetor5= [7,8,9]\n",
        "x,y,z= vetor5\n",
        "print(x)\n",
        "print(y)\n",
        "print(z)"
      ],
      "metadata": {
        "id": "tQASYGg864EE",
        "colab": {
          "base_uri": "https://localhost:8080/"
        },
        "outputId": "1e6a5db4-7582-465d-ede4-2d0ba8ed137e"
      },
      "execution_count": null,
      "outputs": [
        {
          "output_type": "stream",
          "name": "stdout",
          "text": [
            "7\n",
            "8\n",
            "9\n"
          ]
        }
      ]
    },
    {
      "cell_type": "markdown",
      "source": [
        "## Percorrendo um vetor"
      ],
      "metadata": {
        "id": "WLd_rhkPrzkv"
      }
    },
    {
      "cell_type": "code",
      "source": [
        "#Separando elementos com menos elementos que o total do vetor\n",
        "\n",
        "vetor=[7,22,3]\n",
        "a,b,c= vetor[0:3]\n",
        "x,z,_= vetor #coloca underline no espaço que não que elementos\n",
        "print(a)\n",
        "print(b)\n",
        "print(c)\n",
        "print(x)\n",
        "print(z)\n",
        "\n",
        "\n"
      ],
      "metadata": {
        "id": "ZP1QDR9C89vi",
        "colab": {
          "base_uri": "https://localhost:8080/"
        },
        "outputId": "e17a72ee-9836-45e3-b818-6af93d8a0f8d"
      },
      "execution_count": null,
      "outputs": [
        {
          "output_type": "stream",
          "name": "stdout",
          "text": [
            "7\n",
            "22\n",
            "3\n",
            "7\n",
            "22\n"
          ]
        }
      ]
    },
    {
      "cell_type": "code",
      "source": [
        "#Percorrendo elementos de um vetor pelos elementos\n",
        "\n",
        "cores=[\"azul\" , \"preto\" , \"amarelo\"]\n",
        "for x in cores:\n",
        "  print(x)"
      ],
      "metadata": {
        "colab": {
          "base_uri": "https://localhost:8080/"
        },
        "id": "qJBywptOrpyJ",
        "outputId": "a783f832-a9b0-42e4-9a6c-dc5c784ddeba"
      },
      "execution_count": null,
      "outputs": [
        {
          "output_type": "stream",
          "name": "stdout",
          "text": [
            "azul\n",
            "preto\n",
            "amarelo\n"
          ]
        }
      ]
    },
    {
      "cell_type": "code",
      "source": [
        "#Pecorrendo elementos de um vetor pelos indices\n",
        "\n",
        "cores=[\"azul\",\"preto\", \"amarelo\"]\n",
        "for i in range(0, len(cores)):\n",
        "  print(cores[i])\n"
      ],
      "metadata": {
        "id": "7yfbqMTspIBW",
        "colab": {
          "base_uri": "https://localhost:8080/"
        },
        "outputId": "27b853af-b70f-4289-eb12-f0180e5d9325"
      },
      "execution_count": null,
      "outputs": [
        {
          "output_type": "stream",
          "name": "stdout",
          "text": [
            "azul\n",
            "preto\n",
            "amarelo\n"
          ]
        }
      ]
    },
    {
      "cell_type": "code",
      "source": [
        "## Percorrendo elementos de um vetor com while (while é usado quando o programador não tem a noção de quantos laços vai ter)\n",
        "cor=[\"azul\" , \"preto\", \"amarelo\"]\n",
        "indice = 0  ## para o while ele precisa ter o indice\n",
        "while (indice < len(cor)):\n",
        "  print(cor[indice])\n",
        "  indice+=1"
      ],
      "metadata": {
        "colab": {
          "base_uri": "https://localhost:8080/"
        },
        "id": "cmADSMh_sPpJ",
        "outputId": "c6815558-3b30-441d-9174-e9d125742067"
      },
      "execution_count": null,
      "outputs": [
        {
          "output_type": "stream",
          "name": "stdout",
          "text": [
            "azul\n",
            "preto\n",
            "amarelo\n"
          ]
        }
      ]
    },
    {
      "cell_type": "code",
      "source": [
        "## valores em ordem crescente e descresente numa lista\n",
        "##ordem crescente\n",
        "\n",
        "## sort ele so coloca em ordem alfabetica so imprime no print não aceita uma variavel\n",
        "a = [5,7,2,3,9]\n",
        "a.sort()\n",
        "print(a)"
      ],
      "metadata": {
        "id": "b8H2gBnJtUpP",
        "colab": {
          "base_uri": "https://localhost:8080/"
        },
        "outputId": "13d443db-5d40-43f9-e2b1-affdf6c5bd52"
      },
      "execution_count": null,
      "outputs": [
        {
          "output_type": "stream",
          "name": "stdout",
          "text": [
            "[2, 3, 5, 7, 9]\n"
          ]
        }
      ]
    },
    {
      "cell_type": "code",
      "source": [
        "#ordem crescente com armazenamento em outra variavel\n",
        "## sorted ele armazena em outra variavel\n",
        "\n",
        "listal=[2,7,8,9,4]\n",
        "novaLista = sorted(listal)\n",
        "print(novaLista)"
      ],
      "metadata": {
        "colab": {
          "base_uri": "https://localhost:8080/"
        },
        "id": "leq74atmt4P5",
        "outputId": "79bfbf3d-92ed-4adc-f38d-d5b61f8ad676"
      },
      "execution_count": null,
      "outputs": [
        {
          "output_type": "stream",
          "name": "stdout",
          "text": [
            "[2, 4, 7, 8, 9]\n"
          ]
        }
      ]
    },
    {
      "cell_type": "code",
      "source": [
        "#Ordem Decrescente com \"reverse = True\"\n",
        "\n",
        "a = [5,7,2,3,9]\n",
        "a.sort(reverse=True)"
      ],
      "metadata": {
        "id": "fFWBZQ9auqbt"
      },
      "execution_count": null,
      "outputs": []
    },
    {
      "cell_type": "code",
      "source": [
        "#Ordem Decrescente  com armazenamento em outra variavel\n",
        "\n",
        "listal= [2,7,8,9,4]\n",
        "novaLista = sorted(listal, reverse=True)\n",
        "print(novaLista)"
      ],
      "metadata": {
        "id": "d3CCRQQ8vObG"
      },
      "execution_count": null,
      "outputs": []
    },
    {
      "cell_type": "code",
      "source": [
        "#Utilizando o Enumerate\n",
        "\n",
        "# i representa o indice 0\n",
        "# capturaElemento ele é uma variavel que guarda os elementos \n",
        "\n",
        "impostos =['MEI'  , 'Simples' , 'Complexo', 'Empresa']\n",
        "\n",
        "for i, capturaElemento in enumerate(impostos):\n",
        "  print(i, capturaElemento)"
      ],
      "metadata": {
        "colab": {
          "base_uri": "https://localhost:8080/"
        },
        "id": "3HXOf6-4wtbU",
        "outputId": "1e437788-513a-4b2d-e9a7-01d528e02d13"
      },
      "execution_count": null,
      "outputs": [
        {
          "output_type": "stream",
          "name": "stdout",
          "text": [
            "0 MEI\n",
            "1 Simples\n",
            "2 Complexo\n",
            "3 Empresa\n"
          ]
        }
      ]
    },
    {
      "cell_type": "code",
      "source": [
        "#Lista de Listas\n",
        "\n",
        "lista =[[1,2,3] , [7,8,9] , 6 ] # aqui são duas listas , o 6 é um elemento | e cada vetor vira um indice entao 1,2,3 é apenas um indice \n",
        "primeiraLista = lista[0]\n",
        "print(primeiraLista)\n",
        "\n",
        "segundaLista = [1]\n",
        "print(segundaLista)\n",
        "\n",
        "lista02=[[0,10,2,3] , [9,0,98,3]]\n",
        "mostrarLista= lista02[0][1] ## no lista02[0][1] a segunda informação ele pega o elemento do vetor\n",
        "print(mostrarLista)"
      ],
      "metadata": {
        "id": "0jZjYajgxeBo"
      },
      "execution_count": null,
      "outputs": []
    },
    {
      "cell_type": "code",
      "source": [
        "#Pegando elementos de uma lista interna\n",
        "\n",
        "lista = [[1,2,3] , [7,8,9]]\n",
        "\n",
        "elemento1 = lista[0][0]\n",
        "elemento2 = lista[0][1]\n",
        "elemento3 = lista[0][2]\n",
        "\n",
        "print(elemento1)\n",
        "print(elemento2)\n",
        "print(elemento3)\n",
        "\n"
      ],
      "metadata": {
        "id": "isuQFBGO32r7",
        "colab": {
          "base_uri": "https://localhost:8080/"
        },
        "outputId": "c003ce8f-6056-4a64-9c92-bddf90de39cb"
      },
      "execution_count": null,
      "outputs": [
        {
          "output_type": "stream",
          "name": "stdout",
          "text": [
            "1\n",
            "2\n",
            "3\n"
          ]
        }
      ]
    },
    {
      "cell_type": "markdown",
      "source": [
        "# TUPLAS"
      ],
      "metadata": {
        "id": "enKLloFBBF6B"
      }
    },
    {
      "cell_type": "code",
      "source": [
        "##Tuplas é uma lista que não pode ser modificada e deve ter no minino 02 elementos (imutaveis) é lido na hora da criação e não na hora da chamada (execusão )\n",
        "\n",
        "## lista mutavel []\n",
        "## lista imutavel ()\n",
        "\n",
        "objetos = (\"Casa\" , \"Sala\", \"Janela\") #pode ser assim que é a mais utilizada ou:\n",
        "doces = tuple((\"chocolate \", \"bombom \" , \"paçoca\")) # pode ser aind assim: doces =(\"chocolate \" ,\"bombom\" , \"paçoca\")\n",
        "print(doces)\n",
        "\n"
      ],
      "metadata": {
        "id": "sruWS8wYBCfp",
        "colab": {
          "base_uri": "https://localhost:8080/"
        },
        "outputId": "c745a800-fd5e-4cd5-ca33-ddba57a0f08e"
      },
      "execution_count": null,
      "outputs": [
        {
          "output_type": "stream",
          "name": "stdout",
          "text": [
            "('chocolate ', 'bombom ', 'paçoca')\n"
          ]
        }
      ]
    },
    {
      "cell_type": "code",
      "source": [
        "#pegando elementos da tupla\n",
        "\n",
        "num = (1,2,3,4,5)\n",
        "escolha= num[2:4] ## lebrando que o python naturamente não pega todos os elementos de um array, reduzindo um\n",
        "print(escolha)\n",
        "\n",
        "index= num.index(3) ## escrevemos elemento  e ele retorna o indece , localizando o indexador da tupla.\n",
        "print(index)\n",
        "\n",
        "\n",
        "#### com string\n",
        "\n",
        "texto = ['lua', 'sol', 'mercurio']\n",
        "print(texto.index(\"sol\"))\n",
        "nome= texto[1]\n",
        "print(nome[0])"
      ],
      "metadata": {
        "colab": {
          "base_uri": "https://localhost:8080/"
        },
        "id": "EQxQt5nQC-t6",
        "outputId": "829a0f21-4fcb-4c03-9f70-1527ca7903f8"
      },
      "execution_count": null,
      "outputs": [
        {
          "output_type": "stream",
          "name": "stdout",
          "text": [
            "(3, 4)\n",
            "2\n",
            "1\n",
            "s\n"
          ]
        }
      ]
    },
    {
      "cell_type": "code",
      "source": [
        "#Transformando tuplas em listas  e vice-versa\n",
        "\n",
        "setTupla=(1,2,3,4,5) ##----> tupla\n",
        "listaNormal = list(setTupla) ##tupla em lista\n",
        "listaNormal[0] =9\n",
        "print(setTupla)\n",
        "print(listaNormal)\n",
        "listaNormal.append('olá')\n",
        "setTupla = tuple(listaNormal) #lista em Tupla\n",
        "print(setTupla)\n",
        "teste = list(setTupla)\n",
        "print(teste)\n"
      ],
      "metadata": {
        "colab": {
          "base_uri": "https://localhost:8080/"
        },
        "id": "G0YKskRNGLzX",
        "outputId": "e55777c5-6629-4f09-b366-4436833ae25b"
      },
      "execution_count": null,
      "outputs": [
        {
          "output_type": "stream",
          "name": "stdout",
          "text": [
            "(1, 2, 3, 4, 5)\n",
            "[9, 2, 3, 4, 5]\n",
            "(9, 2, 3, 4, 5, 'olá')\n",
            "[9, 2, 3, 4, 5, 'olá']\n"
          ]
        }
      ]
    },
    {
      "cell_type": "code",
      "source": [
        "## transformar tupla em lista para modificar os valores\n",
        "\n",
        "tupla = (1,2,3,4,5,6)\n",
        "print(tupla)\n",
        "lista = list(tupla)\n",
        "lista[0] = 100\n",
        "print(lista)\n",
        "tupla = tuple(lista)\n",
        "print(tupla)\n"
      ],
      "metadata": {
        "id": "kzd646ipMTGh"
      },
      "execution_count": null,
      "outputs": []
    },
    {
      "cell_type": "markdown",
      "source": [
        "## SET - LISTAS IMUTÁVEIS "
      ],
      "metadata": {
        "id": "UOcXtRKCtURn"
      }
    },
    {
      "cell_type": "code",
      "source": [
        "# Com set não se pode mudar itens , mas somente remover e inserir itens \n",
        "\n",
        "listaSet = {0}\n",
        "listaSetComElementos = {1,2,3}\n",
        "listaSet.add(4) #adiciona elemento no set . Não adiciona em listas set sem elementos.\n",
        "listaSetComElementos.add(4)\n",
        "print(listaSet)\n",
        "print(listaSetComElementos)\n",
        "\n",
        "## se a lista tiver None ela adiciona , mas se tiver assim {} ele não adiciona\n"
      ],
      "metadata": {
        "colab": {
          "base_uri": "https://localhost:8080/"
        },
        "id": "G5SfBDaTsK25",
        "outputId": "93bd067c-84b7-4aee-a888-820bca676ba0"
      },
      "execution_count": null,
      "outputs": [
        {
          "output_type": "stream",
          "name": "stdout",
          "text": [
            "{0, 4}\n",
            "{1, 2, 3, 4}\n"
          ]
        }
      ]
    },
    {
      "cell_type": "code",
      "source": [
        "#União de Set\n",
        "### ele tambem não repete os valores e ainda coloca em ordem crescente e alfabetica \n",
        "\n",
        "set1 = {1,2,3}\n",
        "set2 = {3,4,5}\n",
        "setUnido = set1.union(set2)\n",
        "print(setUnido)"
      ],
      "metadata": {
        "colab": {
          "base_uri": "https://localhost:8080/"
        },
        "id": "JEjJ4_0kvnSQ",
        "outputId": "a2ba53f1-0050-48e3-c874-89eef2a22135"
      },
      "execution_count": null,
      "outputs": [
        {
          "output_type": "stream",
          "name": "stdout",
          "text": [
            "{1, 2, 3, 4, 5}\n"
          ]
        }
      ]
    },
    {
      "cell_type": "code",
      "source": [
        "#Intereseção de sets \n",
        "### ele mostra o elemento que se repete na lista\n",
        "\n",
        "set1 = {1,2,3}\n",
        "set2 = {3,4,5}\n",
        "setInter = set1.intersection(set2)\n",
        "print(setInter)"
      ],
      "metadata": {
        "id": "pthvv_qDwL1D",
        "colab": {
          "base_uri": "https://localhost:8080/"
        },
        "outputId": "282690ce-ca95-4bb2-92db-88f93fdb27f0"
      },
      "execution_count": null,
      "outputs": [
        {
          "output_type": "stream",
          "name": "stdout",
          "text": [
            "{3}\n"
          ]
        }
      ]
    },
    {
      "cell_type": "code",
      "source": [
        "#Diferente do sets\n",
        "## ele mostra todos os elementos que é diferente :os elementos no  set1 e no set2 que é igual é o 3 e ele não mostra \n",
        "set1 = {1,2,3}\n",
        "set2 = {3,4,5}\n",
        "\n",
        "setDif = set2.difference(set1) ## aqui ele ver a difrenca do set2 e compara com set1\n",
        "print(setDif)\n",
        "\n",
        "setDif = set1.difference(set2) ## aqui ele ver a difrenca do set1 e compara com set2\n",
        "print(setDif)"
      ],
      "metadata": {
        "colab": {
          "base_uri": "https://localhost:8080/"
        },
        "id": "Y5AgJfwvyE_b",
        "outputId": "3f5f7bc9-f29b-45a4-964a-73a66bca36b4"
      },
      "execution_count": null,
      "outputs": [
        {
          "output_type": "stream",
          "name": "stdout",
          "text": [
            "{4, 5}\n",
            "{1, 2}\n"
          ]
        }
      ]
    },
    {
      "cell_type": "markdown",
      "source": [
        "# Dicionários"
      ],
      "metadata": {
        "id": "2yBcR2EyMLD5"
      }
    },
    {
      "cell_type": "markdown",
      "source": [
        "###### Os dicionarios podemos criar nossos propios indices podendo tambem ser letras eles podem ser tbm numeros float e boleano.\n",
        "primeiro sempre vem o indice e depois o valor EX: idades = {'ana' : 16} . Ana é o indice e 16 é o valor \n"
      ],
      "metadata": {
        "id": "vNH6MFmm0JCV"
      }
    },
    {
      "cell_type": "code",
      "source": [
        "#Dicionario é formaddo por um conjunto chave(índice) valor\n",
        "# É necessario determinar o índice e o valor\n",
        "\n",
        "idades = {'Ana' : 16 , 'Carol' : 20 , 'Dinha':43}\n",
        "print(idades)\n",
        "print(idades['Ana']) #acessa a chave(indice)\n",
        "\n",
        "criador = {0: \"Ana\" , 1:\"Jacaré\" , 2:True , 10:3}\n",
        "print(criador)\n",
        "print(type(criador))"
      ],
      "metadata": {
        "colab": {
          "base_uri": "https://localhost:8080/"
        },
        "id": "ilLZbYVF001G",
        "outputId": "9b8dd17b-8387-48b4-bfc9-4986b7de9e2e"
      },
      "execution_count": null,
      "outputs": [
        {
          "output_type": "stream",
          "name": "stdout",
          "text": [
            "{'Ana': 16, 'Carol': 20, 'Dinha': 43}\n",
            "16\n",
            "{0: 'Ana', 1: 'Jacaré', 2: True, 10: 3}\n",
            "<class 'dict'>\n"
          ]
        }
      ]
    },
    {
      "cell_type": "code",
      "source": [
        "# chave e valor pode ser de um tipo\n",
        "\n",
        "reais={3.1 : \"Tres Pontos um\" , 2.9 : \"Dois pontos nove\"}\n",
        "logico = {True: 1 , False : 0}\n",
        "print(reais)\n",
        "print(logico)"
      ],
      "metadata": {
        "id": "R-ZYH5BY3xDl"
      },
      "execution_count": null,
      "outputs": []
    },
    {
      "cell_type": "code",
      "source": [
        "#Alterando valores de dicionario com [] ou update\n",
        "\n",
        "idades = {'Ana' : 16 , 'Carol' : 20 , 'Dinha':43}\n",
        "idades ['Carol'] = 19 # primeira forma de alterar valores\n",
        "idades.update({'Dinha':50}) ## segunda forma de alterar\n",
        "\n",
        "print(idades)"
      ],
      "metadata": {
        "colab": {
          "base_uri": "https://localhost:8080/"
        },
        "id": "ZhUgRiL94jvI",
        "outputId": "288f7de2-0fdd-4761-a04f-fc2b27ab7a93"
      },
      "execution_count": null,
      "outputs": [
        {
          "output_type": "stream",
          "name": "stdout",
          "text": [
            "{'Ana': 16, 'Carol': 19, 'Dinha': 50}\n"
          ]
        }
      ]
    },
    {
      "cell_type": "code",
      "source": [
        "#Adicionando chaves e valores\n",
        "\n",
        "idades['Fofinho'] = 2\n",
        "print(idades)"
      ],
      "metadata": {
        "colab": {
          "base_uri": "https://localhost:8080/"
        },
        "id": "yo-ZraZJ5KsK",
        "outputId": "8f86eb3e-1439-454b-d28e-85c9685ceb26"
      },
      "execution_count": null,
      "outputs": [
        {
          "output_type": "stream",
          "name": "stdout",
          "text": [
            "{'Ana': 16, 'Carol': 19, 'Dinha': 50, 'Fofinho': 2}\n"
          ]
        }
      ]
    },
    {
      "cell_type": "code",
      "source": [
        "#Removendo Valores\n",
        "\n",
        "idades = {'Ana': 16 , 'Carol' : 20 , 'Dinha':43}\n",
        "idades['Fofinho'] = 2\n",
        "idades.pop ('Ana') ##Forma de remover indice e valor\n",
        "print(idades)\n",
        "idades.popitem() ##Remove o último item do dicionário\n",
        "print(idades)"
      ],
      "metadata": {
        "id": "IaMMYfn_6jLB"
      },
      "execution_count": null,
      "outputs": []
    },
    {
      "cell_type": "markdown",
      "source": [
        "####Convertendo Dicionarios em Tuplas"
      ],
      "metadata": {
        "id": "cjvVlc1f9E52"
      }
    },
    {
      "cell_type": "code",
      "source": [
        "idades = {'Ana': 16 , 'Carol' : 20 , 'Dinha':43}\n",
        "listas = idades.items() #Esse comando converte dicionário em tuplas\n",
        "print(listas , end =\"\\n \\n \")\n",
        "\n",
        "print(type(idades))\n",
        "print(type(listas))\n",
        "\n",
        "##Percorrendo itens da lista\n",
        "\n",
        "for item in listas:\n",
        "  print(item[0] , item[1])"
      ],
      "metadata": {
        "id": "5X7GwToK9M4G",
        "colab": {
          "base_uri": "https://localhost:8080/"
        },
        "outputId": "94db0aec-a392-417e-cf11-23185f676a8d"
      },
      "execution_count": null,
      "outputs": [
        {
          "output_type": "stream",
          "name": "stdout",
          "text": [
            "dict_items([('Ana', 16), ('Carol', 20), ('Dinha', 43)])\n",
            " \n",
            " <class 'dict'>\n",
            "<class 'dict_items'>\n",
            "Ana 16\n",
            "Carol 20\n",
            "Dinha 43\n"
          ]
        }
      ]
    },
    {
      "cell_type": "code",
      "source": [
        "# Imprimindo separadamente chaves e valores\n",
        "idade = {'Ana': 16 , 'Carol' : 20 , 'Dinha':43}\n",
        "chaves = idade.keys() ## key pega os indices\n",
        "valores = idade.values()\n",
        "for item in chaves :\n",
        "  print(item)\n",
        "print(\"--------------\")\n",
        "for item in valores:\n",
        "  print(item)"
      ],
      "metadata": {
        "id": "BX5EAlnPAqiW",
        "colab": {
          "base_uri": "https://localhost:8080/"
        },
        "outputId": "f4331b5a-fe21-4090-f03b-5a33a32a54fe"
      },
      "execution_count": null,
      "outputs": [
        {
          "output_type": "stream",
          "name": "stdout",
          "text": [
            "Ana\n",
            "Carol\n",
            "Dinha\n",
            "--------------\n",
            "16\n",
            "20\n",
            "43\n"
          ]
        }
      ]
    },
    {
      "cell_type": "code",
      "source": [
        "#Apagando lista\n",
        "\n",
        "idade.clear()\n",
        "print(idade)"
      ],
      "metadata": {
        "id": "G_sfIUqtBkWC"
      },
      "execution_count": null,
      "outputs": []
    },
    {
      "cell_type": "markdown",
      "source": [
        "# Listas Comprehensions"
      ],
      "metadata": {
        "id": "CfuT40_8QfUl"
      }
    },
    {
      "cell_type": "code",
      "source": [
        "lista = [x in range(0,11)] #percorrer de x enquanto x no intervalo de 0 a 10\n",
        "print(lista)"
      ],
      "metadata": {
        "id": "ejM3RMJ9Qo3X"
      },
      "execution_count": null,
      "outputs": []
    },
    {
      "cell_type": "code",
      "source": [
        "#Ou ainda\n",
        "lista1=['0', '1','quatro']\n",
        "lista2=[x for x in lista1]\n",
        "print(lista2)"
      ],
      "metadata": {
        "colab": {
          "base_uri": "https://localhost:8080/"
        },
        "id": "w_vXRmgqREIK",
        "outputId": "fa1ef92f-cf8d-4def-950f-98bcfa45eab7"
      },
      "execution_count": null,
      "outputs": [
        {
          "output_type": "stream",
          "name": "stdout",
          "text": [
            "['0', '1', 'quatro']\n"
          ]
        }
      ]
    },
    {
      "cell_type": "code",
      "source": [
        "#Lista para numeros pares\n",
        "## lista imprime ate o\n",
        "lista = [x for x in range(0,11,2)]\n",
        "print(lista)"
      ],
      "metadata": {
        "id": "FS1PHSm5RwsW"
      },
      "execution_count": null,
      "outputs": []
    },
    {
      "cell_type": "code",
      "source": [
        "## ou ainda\n",
        "\n",
        "lista = [x for x in range(0,11)if x%2== 0]\n",
        "print(lista)\n"
      ],
      "metadata": {
        "id": "HuiHuhwjScJh"
      },
      "execution_count": null,
      "outputs": []
    },
    {
      "cell_type": "code",
      "source": [
        "### ou ainda\n",
        "#### porque todo numero mutiplicado por 2 é par\n",
        "lista=[x*2 for x in range(0,11)]\n",
        "print(lista)"
      ],
      "metadata": {
        "id": "DDOQqAg7Sqr0"
      },
      "execution_count": null,
      "outputs": []
    },
    {
      "cell_type": "code",
      "source": [
        "### Impressão de lista retirando elemento de lista\n",
        "listaAux = [1,2,3,4,5]\n",
        "lista = [x for x in range(0,11)if x not in listaAux]\n",
        "print(lista)\n",
        "\n",
        "##mostra os numeros que não aparece na lista dos numeros de 0 a 10"
      ],
      "metadata": {
        "colab": {
          "base_uri": "https://localhost:8080/"
        },
        "id": "bquZmImPS5or",
        "outputId": "f93eca02-4b75-48bd-938c-d8b460b9b373"
      },
      "execution_count": null,
      "outputs": [
        {
          "output_type": "stream",
          "name": "stdout",
          "text": [
            "[0, 6, 7, 8, 9, 10]\n"
          ]
        }
      ]
    },
    {
      "cell_type": "code",
      "source": [
        "#Exemplo de intervalos\n",
        "\n",
        "lista=[x for x in range(-10,10) if x < 9 if x>-4]\n",
        "print(lista)\n",
        "\n",
        "##ele pega apenas o intervalo : o x vai ate  menor 9 e maior que -4"
      ],
      "metadata": {
        "colab": {
          "base_uri": "https://localhost:8080/"
        },
        "id": "QCxizKLuUmZF",
        "outputId": "3d66733d-7005-4da9-f65c-3d56066d4bf0"
      },
      "execution_count": null,
      "outputs": [
        {
          "output_type": "stream",
          "name": "stdout",
          "text": [
            "[-3, -2, -1, 0, 1, 2, 3, 4, 5, 6, 7, 8]\n"
          ]
        }
      ]
    },
    {
      "cell_type": "code",
      "source": [
        "#Mudando o tipo de dado\n",
        " \n",
        "lista=[str(x) for x in range(-10,10) if x <9 if x>-4] ## aqui muda para se\n",
        "print(lista)\n",
        "\n",
        "##muda para strings "
      ],
      "metadata": {
        "colab": {
          "base_uri": "https://localhost:8080/"
        },
        "id": "RtpRlJ_nVBOv",
        "outputId": "3a0a3422-9c1d-4016-98ed-48cf005c2434"
      },
      "execution_count": null,
      "outputs": [
        {
          "output_type": "stream",
          "name": "stdout",
          "text": [
            "['-3', '-2', '-1', '0', '1', '2', '3', '4', '5', '6', '7', '8']\n"
          ]
        }
      ]
    },
    {
      "cell_type": "code",
      "source": [
        "#Retornando apenas o primeiro digitos\n",
        "\n",
        "lista = [str(x)[0] for x in range(0,21) ] ##aqui muda para string\n",
        "print(lista)"
      ],
      "metadata": {
        "id": "SlMG5QdeWdZG"
      },
      "execution_count": null,
      "outputs": []
    },
    {
      "cell_type": "code",
      "source": [
        "#Par ou Impar\n",
        "teste = ['par' if x % 2 ==0 else 'impar' for x in range(2,11)]\n",
        "print(teste)"
      ],
      "metadata": {
        "id": "ftRzAn4FXOGT"
      },
      "execution_count": null,
      "outputs": []
    },
    {
      "cell_type": "code",
      "source": [
        "#Função lambda\n"
      ],
      "metadata": {
        "id": "XozUfSGNXiGE"
      },
      "execution_count": null,
      "outputs": []
    }
  ]
}